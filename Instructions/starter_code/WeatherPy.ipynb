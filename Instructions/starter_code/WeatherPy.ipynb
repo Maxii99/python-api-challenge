{
 "cells": [
  {
   "cell_type": "markdown",
   "metadata": {},
   "source": [
    "# WeatherPy\n",
    "----\n",
    "\n",
    "#### Note\n",
    "* Instructions have been included for each segment. You do not have to follow them exactly, but they are included to help you think through the steps."
   ]
  },
  {
   "cell_type": "code",
   "execution_count": 3,
   "metadata": {
    "scrolled": true
   },
   "outputs": [],
   "source": [
    "# Dependencies and Setup\n",
    "import matplotlib.pyplot as plt\n",
    "import pandas as pd\n",
    "import numpy as np\n",
    "import requests\n",
    "import time\n",
    "from scipy.stats import linregress\n",
    "\n",
    "# Import API key\n",
    "from api_keys import weather_api_key\n",
    "\n",
    "# Incorporated citipy to determine city based on latitude and longitude\n",
    "from citipy import citipy\n",
    "\n",
    "# Output File (CSV)\n",
    "output_data_file = \"output_data/cities.csv\"\n",
    "\n",
    "# Range of latitudes and longitudes\n",
    "lat_range = (-90, 90)\n",
    "lng_range = (-180, 180)"
   ]
  },
  {
   "cell_type": "markdown",
   "metadata": {},
   "source": [
    "## Generate Cities List"
   ]
  },
  {
   "cell_type": "code",
   "execution_count": 4,
   "metadata": {},
   "outputs": [
    {
     "data": {
      "text/plain": [
       "583"
      ]
     },
     "execution_count": 4,
     "metadata": {},
     "output_type": "execute_result"
    }
   ],
   "source": [
    "# List for holding lat_lngs and cities\n",
    "lat_lngs = []\n",
    "cities = []\n",
    "\n",
    "# Create a set of random lat and lng combinations\n",
    "lats = np.random.uniform(lat_range[0], lat_range[1], size=1500)\n",
    "lngs = np.random.uniform(lng_range[0], lng_range[1], size=1500)\n",
    "lat_lngs = zip(lats, lngs)\n",
    "\n",
    "# Identify nearest city for each lat, lng combination\n",
    "for lat_lng in lat_lngs:\n",
    "    city = citipy.nearest_city(lat_lng[0], lat_lng[1]).city_name\n",
    "    \n",
    "    # If the city is unique, then add it to a our cities list\n",
    "    if city not in cities:\n",
    "        cities.append(city)\n",
    "\n",
    "# Print the city count to confirm sufficient count\n",
    "len(cities)"
   ]
  },
  {
   "cell_type": "markdown",
   "metadata": {},
   "source": [
    "### Perform API Calls\n",
    "* Perform a weather check on each city using a series of successive API calls.\n",
    "* Include a print log of each city as it'sbeing processed (with the city number and city name)."
   ]
  },
  {
   "cell_type": "code",
   "execution_count": 5,
   "metadata": {},
   "outputs": [
    {
     "name": "stdout",
     "output_type": "stream",
     "text": [
      "Beginning Data Retrieval\n",
      "-----------------------------\n",
      "\n",
      "Processing Record 1 of Set 1| ushuaia\n",
      "Processing Record 2 of Set 1| severo-kurilsk\n",
      "Processing Record 3 of Set 1| east london\n",
      "Processing Record 4 of Set 1| hermanus\n",
      "Processing Record 5 of Set 1| jamestown\n",
      "Processing Record 6 of Set 1| alofi\n",
      "Processing Record 7 of Set 1| longyearbyen\n",
      "Processing Record 8 of Set 1| castro\n",
      "Processing Record 9 of Set 1| alexandria\n",
      "Processing Record 10 of Set 1| springfield\n",
      "Processing Record 11 of Set 1| khani\n",
      "Processing Record 12 of Set 1| nanortalik\n",
      "Processing Record 13 of Set 1| tasiilaq\n",
      "Processing Record 14 of Set 1| timmins\n",
      "Processing Record 15 of Set 1| lagoa\n",
      "Processing Record 16 of Set 1| cidreira\n",
      "Processing Record 17 of Set 1| punta arenas\n",
      "Processing Record 18 of Set 1| tchibanga\n",
      "Processing Record 19 of Set 1| saldanha\n",
      "Processing Record 20 of Set 1| barrow\n",
      "Processing Record 21 of Set 1| barrhead\n",
      "City not found. Skipping...\n",
      "Processing Record 22 of Set 1| nome\n",
      "Processing Record 23 of Set 1| araouane\n",
      "Processing Record 24 of Set 1| matagami\n",
      "Processing Record 25 of Set 1| chuy\n",
      "Processing Record 26 of Set 1| cayenne\n",
      "Processing Record 27 of Set 1| vaini\n",
      "Processing Record 28 of Set 1| daru\n",
      "Processing Record 29 of Set 1| quirinopolis\n",
      "Processing Record 30 of Set 1| albany\n",
      "City not found. Skipping...\n",
      "Processing Record 31 of Set 1| rikitea\n",
      "Processing Record 32 of Set 1| new norfolk\n",
      "Processing Record 33 of Set 1| mataura\n",
      "Processing Record 34 of Set 1| ouegoa\n",
      "Processing Record 35 of Set 1| yellowknife\n",
      "Processing Record 36 of Set 1| tahe\n",
      "Processing Record 37 of Set 1| alice town\n",
      "Processing Record 38 of Set 1| constantine\n",
      "Processing Record 39 of Set 1| pevek\n",
      "Processing Record 40 of Set 1| cape town\n",
      "Processing Record 41 of Set 1| woodward\n",
      "Processing Record 42 of Set 1| luderitz\n",
      "Processing Record 43 of Set 1| carnarvon\n",
      "Processing Record 44 of Set 1| bredasdorp\n",
      "Processing Record 45 of Set 1| chino valley\n",
      "Processing Record 46 of Set 1| constitucion\n",
      "Processing Record 47 of Set 1| hilo\n",
      "Processing Record 48 of Set 1| khatanga\n",
      "Processing Record 49 of Set 1| thompson\n",
      "Processing Record 1 of Set 2| araguaina\n",
      "Processing Record 2 of Set 2| port elizabeth\n",
      "City not found. Skipping...\n",
      "Processing Record 3 of Set 2| lahij\n",
      "City not found. Skipping...\n",
      "Processing Record 4 of Set 2| prince rupert\n",
      "Processing Record 5 of Set 2| belmonte\n",
      "Processing Record 6 of Set 2| itarema\n",
      "Processing Record 7 of Set 2| savona\n",
      "Processing Record 8 of Set 2| isla vista\n",
      "Processing Record 9 of Set 2| derzhavinsk\n",
      "City not found. Skipping...\n",
      "Processing Record 10 of Set 2| surgut\n",
      "Processing Record 11 of Set 2| makakilo city\n",
      "Processing Record 12 of Set 2| bluff\n",
      "Processing Record 13 of Set 2| ukiah\n",
      "Processing Record 14 of Set 2| santo tomas\n",
      "Processing Record 15 of Set 2| tandil\n",
      "Processing Record 16 of Set 2| kensington\n",
      "Processing Record 17 of Set 2| leningradskiy\n",
      "Processing Record 18 of Set 2| price\n",
      "City not found. Skipping...\n",
      "Processing Record 19 of Set 2| kumluca\n",
      "Processing Record 20 of Set 2| hobart\n",
      "Processing Record 21 of Set 2| talnakh\n",
      "Processing Record 22 of Set 2| doha\n",
      "Processing Record 23 of Set 2| ilulissat\n",
      "Processing Record 24 of Set 2| dikson\n",
      "Processing Record 25 of Set 2| eureka\n",
      "Processing Record 26 of Set 2| victor harbor\n",
      "Processing Record 27 of Set 2| georgetown\n",
      "Processing Record 28 of Set 2| mar del plata\n",
      "City not found. Skipping...\n",
      "City not found. Skipping...\n",
      "Processing Record 29 of Set 2| busselton\n",
      "Processing Record 30 of Set 2| srednekolymsk\n",
      "Processing Record 31 of Set 2| kavieng\n",
      "Processing Record 32 of Set 2| manaure\n",
      "Processing Record 33 of Set 2| york\n",
      "City not found. Skipping...\n",
      "Processing Record 34 of Set 2| roma\n",
      "Processing Record 35 of Set 2| victoria\n",
      "Processing Record 36 of Set 2| evensk\n",
      "Processing Record 37 of Set 2| dzhubga\n",
      "Processing Record 38 of Set 2| bagdarin\n",
      "Processing Record 39 of Set 2| fuerte olimpo\n",
      "Processing Record 40 of Set 2| fortuna\n",
      "City not found. Skipping...\n",
      "Processing Record 41 of Set 2| ribeira grande\n",
      "City not found. Skipping...\n",
      "Processing Record 42 of Set 2| sao joao da barra\n",
      "Processing Record 43 of Set 2| ust-ilimsk\n",
      "City not found. Skipping...\n",
      "Processing Record 44 of Set 2| saint george\n",
      "Processing Record 45 of Set 2| nishihara\n",
      "City not found. Skipping...\n",
      "Processing Record 46 of Set 2| revelstoke\n",
      "Processing Record 47 of Set 2| tashla\n",
      "City not found. Skipping...\n",
      "Processing Record 48 of Set 2| sao jose da coroa grande\n",
      "Processing Record 49 of Set 2| ancud\n",
      "City not found. Skipping...\n",
      "Processing Record 1 of Set 3| vardo\n",
      "City not found. Skipping...\n",
      "City not found. Skipping...\n",
      "Processing Record 2 of Set 3| kondinskoye\n",
      "Processing Record 3 of Set 3| rio grande\n",
      "Processing Record 4 of Set 3| lampang\n",
      "Processing Record 5 of Set 3| yulara\n",
      "Processing Record 6 of Set 3| kuzhener\n",
      "Processing Record 7 of Set 3| flinders\n",
      "Processing Record 8 of Set 3| huaidian\n",
      "Processing Record 9 of Set 3| vila velha\n",
      "Processing Record 10 of Set 3| boyolangu\n",
      "Processing Record 11 of Set 3| cherskiy\n",
      "Processing Record 12 of Set 3| takoradi\n",
      "Processing Record 13 of Set 3| beringovskiy\n",
      "Processing Record 14 of Set 3| burnie\n",
      "Processing Record 15 of Set 3| atuona\n",
      "Processing Record 16 of Set 3| vao\n",
      "Processing Record 17 of Set 3| hithadhoo\n",
      "Processing Record 18 of Set 3| sohag\n",
      "Processing Record 19 of Set 3| avarua\n",
      "Processing Record 20 of Set 3| kaitangata\n",
      "Processing Record 21 of Set 3| bambous virieux\n",
      "Processing Record 22 of Set 3| chandur\n",
      "Processing Record 23 of Set 3| usinsk\n",
      "Processing Record 24 of Set 3| bara\n",
      "Processing Record 25 of Set 3| bongandanga\n",
      "Processing Record 26 of Set 3| codrington\n",
      "Processing Record 27 of Set 3| kahului\n",
      "Processing Record 28 of Set 3| luanda\n",
      "Processing Record 29 of Set 3| mount isa\n",
      "Processing Record 30 of Set 3| qaanaaq\n",
      "Processing Record 31 of Set 3| butaritari\n",
      "Processing Record 32 of Set 3| yarim\n",
      "Processing Record 33 of Set 3| jalapa\n",
      "Processing Record 34 of Set 3| veriora\n",
      "Processing Record 35 of Set 3| hobyo\n",
      "City not found. Skipping...\n",
      "Processing Record 36 of Set 3| high level\n",
      "Processing Record 37 of Set 3| ixtapa\n",
      "Processing Record 38 of Set 3| berlevag\n",
      "Processing Record 39 of Set 3| beneditinos\n",
      "Processing Record 40 of Set 3| chimbote\n",
      "Processing Record 41 of Set 3| hasaki\n",
      "Processing Record 42 of Set 3| lebu\n",
      "Processing Record 43 of Set 3| kieta\n",
      "Processing Record 44 of Set 3| asau\n",
      "Processing Record 45 of Set 3| port blair\n",
      "Processing Record 46 of Set 3| neiafu\n",
      "Processing Record 47 of Set 3| iqaluit\n",
      "Processing Record 48 of Set 3| adzope\n",
      "Processing Record 49 of Set 3| mahebourg\n",
      "Processing Record 1 of Set 4| xining\n",
      "Processing Record 2 of Set 4| auki\n",
      "Processing Record 3 of Set 4| kabare\n",
      "City not found. Skipping...\n",
      "City not found. Skipping...\n",
      "Processing Record 4 of Set 4| kapaa\n",
      "Processing Record 5 of Set 4| bowen\n",
      "Processing Record 6 of Set 4| kurilsk\n",
      "Processing Record 7 of Set 4| atar\n",
      "Processing Record 8 of Set 4| fayetteville\n",
      "Processing Record 9 of Set 4| katobu\n",
      "Processing Record 10 of Set 4| palmer\n",
      "Processing Record 11 of Set 4| broome\n",
      "Processing Record 12 of Set 4| boa vista\n",
      "Processing Record 13 of Set 4| saskylakh\n",
      "Processing Record 14 of Set 4| leua\n",
      "Processing Record 15 of Set 4| khandbari\n",
      "Processing Record 16 of Set 4| maragogi\n",
      "Processing Record 17 of Set 4| zlitan\n",
      "Processing Record 18 of Set 4| kutum\n",
      "Processing Record 19 of Set 4| jumla\n",
      "Processing Record 20 of Set 4| ponta do sol\n",
      "Processing Record 21 of Set 4| saint-philippe\n",
      "Processing Record 22 of Set 4| kodiak\n",
      "Processing Record 23 of Set 4| port alfred\n",
      "City not found. Skipping...\n",
      "Processing Record 24 of Set 4| rutul\n",
      "Processing Record 25 of Set 4| esperance\n",
      "Processing Record 26 of Set 4| yatou\n",
      "Processing Record 27 of Set 4| vila franca do campo\n",
      "City not found. Skipping...\n",
      "Processing Record 28 of Set 4| cap malheureux\n",
      "Processing Record 29 of Set 4| panalingaan\n",
      "Processing Record 30 of Set 4| havoysund\n",
      "Processing Record 31 of Set 4| clyde river\n",
      "Processing Record 32 of Set 4| mumford\n",
      "City not found. Skipping...\n",
      "Processing Record 33 of Set 4| mabaruma\n",
      "Processing Record 34 of Set 4| talara\n",
      "Processing Record 35 of Set 4| hamilton\n",
      "Processing Record 36 of Set 4| khotyn\n",
      "Processing Record 37 of Set 4| koumac\n",
      "Processing Record 38 of Set 4| tuktoyaktuk\n",
      "Processing Record 39 of Set 4| saint-pierre\n",
      "Processing Record 40 of Set 4| los llanos de aridane\n",
      "Processing Record 41 of Set 4| zhigansk\n",
      "Processing Record 42 of Set 4| finschhafen\n"
     ]
    },
    {
     "name": "stdout",
     "output_type": "stream",
     "text": [
      "Processing Record 43 of Set 4| harper\n",
      "Processing Record 44 of Set 4| hami\n",
      "Processing Record 45 of Set 4| sao filipe\n",
      "Processing Record 46 of Set 4| nerchinskiy zavod\n",
      "Processing Record 47 of Set 4| haverfordwest\n",
      "Processing Record 48 of Set 4| klaksvik\n",
      "City not found. Skipping...\n",
      "Processing Record 49 of Set 4| grindavik\n",
      "Processing Record 1 of Set 5| arona\n",
      "Processing Record 2 of Set 5| erenhot\n",
      "Processing Record 3 of Set 5| bulalacao\n",
      "Processing Record 4 of Set 5| soyo\n",
      "Processing Record 5 of Set 5| lompoc\n",
      "Processing Record 6 of Set 5| acapulco\n",
      "Processing Record 7 of Set 5| nikolskoye\n",
      "Processing Record 8 of Set 5| caravelas\n",
      "City not found. Skipping...\n",
      "Processing Record 9 of Set 5| klyuchi\n",
      "Processing Record 10 of Set 5| chipinge\n",
      "Processing Record 11 of Set 5| carmen\n",
      "Processing Record 12 of Set 5| livani\n",
      "Processing Record 13 of Set 5| lac du bonnet\n",
      "Processing Record 14 of Set 5| juegang\n",
      "Processing Record 15 of Set 5| vostok\n",
      "City not found. Skipping...\n",
      "Processing Record 16 of Set 5| kulhudhuffushi\n",
      "City not found. Skipping...\n",
      "Processing Record 17 of Set 5| tombouctou\n",
      "Processing Record 18 of Set 5| bima\n",
      "Processing Record 19 of Set 5| maniitsoq\n",
      "Processing Record 20 of Set 5| ondjiva\n",
      "Processing Record 21 of Set 5| torbay\n",
      "Processing Record 22 of Set 5| paamiut\n",
      "Processing Record 23 of Set 5| lata\n",
      "Processing Record 24 of Set 5| pacific grove\n",
      "Processing Record 25 of Set 5| homer\n",
      "Processing Record 26 of Set 5| vytegra\n",
      "Processing Record 27 of Set 5| millinocket\n",
      "Processing Record 28 of Set 5| roald\n",
      "Processing Record 29 of Set 5| shumskiy\n",
      "Processing Record 30 of Set 5| vanavara\n",
      "Processing Record 31 of Set 5| jardin\n",
      "Processing Record 32 of Set 5| kuytun\n",
      "City not found. Skipping...\n",
      "Processing Record 33 of Set 5| arraial do cabo\n",
      "Processing Record 34 of Set 5| norman wells\n",
      "Processing Record 35 of Set 5| hovd\n",
      "Processing Record 36 of Set 5| mhasla\n",
      "Processing Record 37 of Set 5| port hedland\n",
      "Processing Record 38 of Set 5| vinh yen\n",
      "Processing Record 39 of Set 5| flin flon\n",
      "Processing Record 40 of Set 5| isangel\n",
      "Processing Record 41 of Set 5| road town\n",
      "Processing Record 42 of Set 5| tanete\n",
      "Processing Record 43 of Set 5| yudong\n",
      "Processing Record 44 of Set 5| geraldton\n",
      "Processing Record 45 of Set 5| rawson\n",
      "Processing Record 46 of Set 5| kruisfontein\n",
      "Processing Record 47 of Set 5| rosetown\n",
      "Processing Record 48 of Set 5| cabo san lucas\n",
      "Processing Record 49 of Set 5| plettenberg bay\n",
      "Processing Record 1 of Set 6| puerto escondido\n",
      "Processing Record 2 of Set 6| avera\n",
      "Processing Record 3 of Set 6| port keats\n",
      "City not found. Skipping...\n",
      "Processing Record 4 of Set 6| guerrero negro\n",
      "City not found. Skipping...\n",
      "Processing Record 5 of Set 6| marquard\n",
      "Processing Record 6 of Set 6| aranos\n",
      "Processing Record 7 of Set 6| usingen\n",
      "Processing Record 8 of Set 6| kenai\n",
      "Processing Record 9 of Set 6| acajutla\n",
      "Processing Record 10 of Set 6| salinas\n",
      "Processing Record 11 of Set 6| port lincoln\n",
      "Processing Record 12 of Set 6| teya\n",
      "Processing Record 13 of Set 6| jalu\n",
      "Processing Record 14 of Set 6| seara\n",
      "City not found. Skipping...\n",
      "Processing Record 15 of Set 6| bogande\n",
      "Processing Record 16 of Set 6| barra patuca\n",
      "Processing Record 17 of Set 6| puerto ayora\n",
      "Processing Record 18 of Set 6| raga\n",
      "City not found. Skipping...\n",
      "Processing Record 19 of Set 6| manjacaze\n",
      "Processing Record 20 of Set 6| bajil\n",
      "Processing Record 21 of Set 6| san patricio\n",
      "Processing Record 22 of Set 6| marsh harbour\n",
      "City not found. Skipping...\n",
      "Processing Record 23 of Set 6| dubbo\n",
      "Processing Record 24 of Set 6| tiksi\n",
      "City not found. Skipping...\n",
      "Processing Record 25 of Set 6| chokurdakh\n",
      "Processing Record 26 of Set 6| ponta delgada\n",
      "Processing Record 27 of Set 6| suleja\n",
      "Processing Record 28 of Set 6| salalah\n",
      "Processing Record 29 of Set 6| morro bay\n",
      "Processing Record 30 of Set 6| cuamba\n",
      "Processing Record 31 of Set 6| hambantota\n",
      "Processing Record 32 of Set 6| bucksport\n",
      "Processing Record 33 of Set 6| oktyabrskiy\n",
      "Processing Record 34 of Set 6| batemans bay\n",
      "Processing Record 35 of Set 6| tuatapere\n",
      "Processing Record 36 of Set 6| preston\n",
      "Processing Record 37 of Set 6| karratha\n",
      "Processing Record 38 of Set 6| lastoursville\n",
      "Processing Record 39 of Set 6| tazovskiy\n",
      "Processing Record 40 of Set 6| eldorado\n",
      "Processing Record 41 of Set 6| sambava\n",
      "Processing Record 42 of Set 6| punta umbria\n",
      "Processing Record 43 of Set 6| matara\n",
      "Processing Record 44 of Set 6| bilibino\n",
      "Processing Record 45 of Set 6| cockburn town\n",
      "Processing Record 46 of Set 6| van\n",
      "Processing Record 47 of Set 6| belle fourche\n",
      "Processing Record 48 of Set 6| darhan\n",
      "Processing Record 49 of Set 6| hanko\n",
      "City not found. Skipping...\n",
      "Processing Record 1 of Set 7| basco\n",
      "Processing Record 2 of Set 7| sitka\n",
      "City not found. Skipping...\n",
      "Processing Record 3 of Set 7| sanandaj\n",
      "Processing Record 4 of Set 7| lorengau\n",
      "Processing Record 5 of Set 7| coquimbo\n",
      "Processing Record 6 of Set 7| takapau\n",
      "Processing Record 7 of Set 7| gazanjyk\n",
      "Processing Record 8 of Set 7| valmiera\n",
      "City not found. Skipping...\n",
      "Processing Record 9 of Set 7| fairbanks\n",
      "Processing Record 10 of Set 7| assiniboia\n",
      "Processing Record 11 of Set 7| sur\n",
      "Processing Record 12 of Set 7| vikhorevka\n",
      "City not found. Skipping...\n",
      "Processing Record 13 of Set 7| srandakan\n",
      "City not found. Skipping...\n",
      "Processing Record 14 of Set 7| umm kaddadah\n",
      "Processing Record 15 of Set 7| muros\n",
      "Processing Record 16 of Set 7| leticia\n",
      "Processing Record 17 of Set 7| custoias\n",
      "Processing Record 18 of Set 7| bonthe\n",
      "Processing Record 19 of Set 7| papara\n",
      "Processing Record 20 of Set 7| hayden\n",
      "Processing Record 21 of Set 7| bhuban\n",
      "Processing Record 22 of Set 7| ulaangom\n",
      "Processing Record 23 of Set 7| yuli\n",
      "Processing Record 24 of Set 7| pathanamthitta\n",
      "Processing Record 25 of Set 7| moose factory\n",
      "Processing Record 26 of Set 7| gizo\n",
      "Processing Record 27 of Set 7| saint-jean-port-joli\n",
      "Processing Record 28 of Set 7| san cristobal\n",
      "City not found. Skipping...\n",
      "Processing Record 29 of Set 7| jijiga\n",
      "Processing Record 30 of Set 7| praia\n",
      "Processing Record 31 of Set 7| tura\n",
      "Processing Record 32 of Set 7| sheridan\n",
      "Processing Record 33 of Set 7| lima\n",
      "Processing Record 34 of Set 7| qaqortoq\n",
      "Processing Record 35 of Set 7| lask\n",
      "Processing Record 36 of Set 7| la ronge\n",
      "Processing Record 37 of Set 7| omsukchan\n",
      "Processing Record 38 of Set 7| tual\n",
      "Processing Record 39 of Set 7| touros\n",
      "Processing Record 40 of Set 7| adrar\n",
      "Processing Record 41 of Set 7| tautira\n",
      "Processing Record 42 of Set 7| pisco\n",
      "Processing Record 43 of Set 7| sinjar\n",
      "Processing Record 44 of Set 7| eirunepe\n",
      "Processing Record 45 of Set 7| vanimo\n",
      "Processing Record 46 of Set 7| vilyuysk\n",
      "Processing Record 47 of Set 7| udon thani\n",
      "Processing Record 48 of Set 7| padang\n",
      "City not found. Skipping...\n",
      "Processing Record 49 of Set 7| chateau-thierry\n",
      "Processing Record 1 of Set 8| bengkulu\n",
      "Processing Record 2 of Set 8| airai\n",
      "City not found. Skipping...\n",
      "Processing Record 3 of Set 8| coahuayana\n",
      "Processing Record 4 of Set 8| alice springs\n",
      "Processing Record 5 of Set 8| tecoanapa\n",
      "Processing Record 6 of Set 8| kalemie\n",
      "Processing Record 7 of Set 8| hachinohe\n",
      "Processing Record 8 of Set 8| langham\n",
      "Processing Record 9 of Set 8| paita\n",
      "Processing Record 10 of Set 8| gorlice\n",
      "Processing Record 11 of Set 8| kloulklubed\n",
      "Processing Record 12 of Set 8| goderich\n",
      "Processing Record 13 of Set 8| stange\n",
      "Processing Record 14 of Set 8| coihaique\n",
      "Processing Record 15 of Set 8| mayskiy\n",
      "Processing Record 16 of Set 8| callaway\n",
      "Processing Record 17 of Set 8| egvekinot\n",
      "Processing Record 18 of Set 8| puerto quijarro\n",
      "Processing Record 19 of Set 8| sampit\n",
      "Processing Record 20 of Set 8| waipawa\n",
      "Processing Record 21 of Set 8| la tuque\n",
      "Processing Record 22 of Set 8| dobryanka\n",
      "Processing Record 23 of Set 8| rodrigues alves\n",
      "Processing Record 24 of Set 8| nazas\n",
      "Processing Record 25 of Set 8| dingle\n",
      "Processing Record 26 of Set 8| xam nua\n",
      "Processing Record 27 of Set 8| waitati\n",
      "Processing Record 28 of Set 8| dunedin\n",
      "Processing Record 29 of Set 8| domna\n",
      "Processing Record 30 of Set 8| ugoofaaru\n",
      "Processing Record 31 of Set 8| bethel\n",
      "Processing Record 32 of Set 8| nigde\n",
      "Processing Record 33 of Set 8| campbell river\n",
      "Processing Record 34 of Set 8| rehoboth\n",
      "Processing Record 35 of Set 8| meulaboh\n",
      "Processing Record 36 of Set 8| hualmay\n",
      "Processing Record 37 of Set 8| angoche\n",
      "Processing Record 38 of Set 8| ariquemes\n"
     ]
    },
    {
     "name": "stdout",
     "output_type": "stream",
     "text": [
      "Processing Record 39 of Set 8| lewistown\n",
      "Processing Record 40 of Set 8| marzuq\n",
      "Processing Record 41 of Set 8| aykhal\n",
      "Processing Record 42 of Set 8| shingu\n",
      "Processing Record 43 of Set 8| upernavik\n",
      "City not found. Skipping...\n",
      "Processing Record 44 of Set 8| pocos de caldas\n",
      "Processing Record 45 of Set 8| college\n",
      "Processing Record 46 of Set 8| ambulu\n",
      "Processing Record 47 of Set 8| katsuura\n",
      "Processing Record 48 of Set 8| katangli\n",
      "Processing Record 49 of Set 8| southbridge\n",
      "Processing Record 1 of Set 9| arcata\n",
      "Processing Record 2 of Set 9| yeppoon\n",
      "Processing Record 3 of Set 9| hengyang\n",
      "Processing Record 4 of Set 9| lotoshino\n",
      "Processing Record 5 of Set 9| mananara\n",
      "Processing Record 6 of Set 9| jasper\n",
      "Processing Record 7 of Set 9| abu samrah\n",
      "Processing Record 8 of Set 9| alyangula\n",
      "Processing Record 9 of Set 9| sorland\n",
      "Processing Record 10 of Set 9| huancabamba\n",
      "Processing Record 11 of Set 9| balatonfuzfo\n",
      "Processing Record 12 of Set 9| aswan\n",
      "Processing Record 13 of Set 9| changde\n",
      "Processing Record 14 of Set 9| port hardy\n",
      "Processing Record 15 of Set 9| wicklow\n",
      "Processing Record 16 of Set 9| the valley\n",
      "Processing Record 17 of Set 9| komsomolskiy\n",
      "Processing Record 18 of Set 9| inta\n",
      "City not found. Skipping...\n",
      "Processing Record 19 of Set 9| kalabo\n",
      "Processing Record 20 of Set 9| karabulak\n",
      "Processing Record 21 of Set 9| rypefjord\n",
      "Processing Record 22 of Set 9| dalby\n",
      "Processing Record 23 of Set 9| mbandaka\n",
      "Processing Record 24 of Set 9| mudkhed\n",
      "Processing Record 25 of Set 9| kayerkan\n",
      "Processing Record 26 of Set 9| turukhansk\n",
      "Processing Record 27 of Set 9| mocuba\n",
      "Processing Record 28 of Set 9| tessalit\n",
      "City not found. Skipping...\n",
      "Processing Record 29 of Set 9| naryan-mar\n",
      "Processing Record 30 of Set 9| dzaoudzi\n",
      "Processing Record 31 of Set 9| opuwo\n",
      "Processing Record 32 of Set 9| kamaishi\n",
      "Processing Record 33 of Set 9| souillac\n",
      "Processing Record 34 of Set 9| bida\n",
      "Processing Record 35 of Set 9| veraval\n",
      "Processing Record 36 of Set 9| te anau\n",
      "Processing Record 37 of Set 9| buraydah\n",
      "Processing Record 38 of Set 9| belomorsk\n",
      "Processing Record 39 of Set 9| faanui\n",
      "Processing Record 40 of Set 9| betare oya\n",
      "Processing Record 41 of Set 9| bairiki\n",
      "Processing Record 42 of Set 9| valle hermoso\n",
      "Processing Record 43 of Set 9| morros\n",
      "Processing Record 44 of Set 9| kyren\n",
      "Processing Record 45 of Set 9| axim\n",
      "Processing Record 46 of Set 9| lasa\n",
      "Processing Record 47 of Set 9| shepsi\n",
      "Processing Record 48 of Set 9| port moresby\n",
      "Processing Record 49 of Set 9| jiazi\n",
      "Processing Record 1 of Set 10| comodoro rivadavia\n",
      "Processing Record 2 of Set 10| pavagada\n",
      "Processing Record 3 of Set 10| altamont\n",
      "Processing Record 4 of Set 10| tezu\n",
      "Processing Record 5 of Set 10| torit\n",
      "Processing Record 6 of Set 10| namibe\n",
      "Processing Record 7 of Set 10| kuandian\n",
      "Processing Record 8 of Set 10| lagos\n",
      "Processing Record 9 of Set 10| sucua\n",
      "Processing Record 10 of Set 10| mae sai\n",
      "City not found. Skipping...\n",
      "Processing Record 11 of Set 10| san andres\n",
      "City not found. Skipping...\n",
      "Processing Record 12 of Set 10| waw\n",
      "Processing Record 13 of Set 10| moroni\n",
      "Processing Record 14 of Set 10| bourail\n",
      "Processing Record 15 of Set 10| patiya\n",
      "Processing Record 16 of Set 10| hofn\n",
      "Processing Record 17 of Set 10| yerbogachen\n",
      "Processing Record 18 of Set 10| korla\n",
      "Processing Record 19 of Set 10| atyrau\n",
      "Processing Record 20 of Set 10| huarmey\n",
      "Processing Record 21 of Set 10| almaty\n",
      "Processing Record 22 of Set 10| mana\n",
      "Processing Record 23 of Set 10| sassandra\n",
      "City not found. Skipping...\n",
      "Processing Record 24 of Set 10| mildura\n",
      "Processing Record 25 of Set 10| along\n",
      "Processing Record 26 of Set 10| viedma\n",
      "Processing Record 27 of Set 10| murindo\n",
      "Processing Record 28 of Set 10| san jose\n",
      "Processing Record 29 of Set 10| kikwit\n",
      "Processing Record 30 of Set 10| bella union\n",
      "Processing Record 31 of Set 10| vossevangen\n",
      "Processing Record 32 of Set 10| viterbo\n",
      "Processing Record 33 of Set 10| vazante\n",
      "Processing Record 34 of Set 10| dalbandin\n",
      "Processing Record 35 of Set 10| byron bay\n",
      "Processing Record 36 of Set 10| umm lajj\n",
      "Processing Record 37 of Set 10| palasa\n",
      "Processing Record 38 of Set 10| ahipara\n",
      "Processing Record 39 of Set 10| vestmannaeyjar\n",
      "Processing Record 40 of Set 10| bandiagara\n",
      "Processing Record 41 of Set 10| bodaybo\n",
      "Processing Record 42 of Set 10| shelburne\n",
      "Processing Record 43 of Set 10| caxito\n",
      "Processing Record 44 of Set 10| chimore\n",
      "Processing Record 45 of Set 10| san quintin\n",
      "Processing Record 46 of Set 10| port-cartier\n",
      "Processing Record 47 of Set 10| nouakchott\n",
      "Processing Record 48 of Set 10| alampur\n",
      "Processing Record 49 of Set 10| borogontsy\n",
      "Processing Record 1 of Set 11| alta floresta\n",
      "Processing Record 2 of Set 11| horsham\n",
      "Processing Record 3 of Set 11| tigil\n",
      "Processing Record 4 of Set 11| sigli\n",
      "Processing Record 5 of Set 11| ust-kuyga\n",
      "Processing Record 6 of Set 11| stabat\n",
      "Processing Record 7 of Set 11| lebedinyy\n",
      "Processing Record 8 of Set 11| iquique\n",
      "Processing Record 9 of Set 11| yumen\n",
      "Processing Record 10 of Set 11| desaguadero\n",
      "City not found. Skipping...\n",
      "City not found. Skipping...\n",
      "Processing Record 11 of Set 11| honiara\n",
      "Processing Record 12 of Set 11| bubaque\n",
      "Processing Record 13 of Set 11| necochea\n",
      "Processing Record 14 of Set 11| saint-augustin\n",
      "Processing Record 15 of Set 11| clarence town\n",
      "Processing Record 16 of Set 11| madingou\n",
      "Processing Record 17 of Set 11| kerema\n",
      "Processing Record 18 of Set 11| ordynskoye\n",
      "Processing Record 19 of Set 11| lipany\n",
      "Processing Record 20 of Set 11| trelew\n",
      "Processing Record 21 of Set 11| vestmanna\n",
      "City not found. Skipping...\n",
      "Processing Record 22 of Set 11| impfondo\n",
      "Processing Record 23 of Set 11| haines junction\n",
      "Processing Record 24 of Set 11| winslow\n",
      "Processing Record 25 of Set 11| hare bay\n",
      "Processing Record 26 of Set 11| carahue\n",
      "Processing Record 27 of Set 11| iquitos\n",
      "Processing Record 28 of Set 11| carutapera\n",
      "Processing Record 29 of Set 11| bayangol\n",
      "Processing Record 30 of Set 11| dukat\n",
      "City not found. Skipping...\n",
      "Processing Record 31 of Set 11| singarayakonda\n",
      "Processing Record 32 of Set 11| elko\n",
      "Processing Record 33 of Set 11| tiznit\n",
      "Processing Record 34 of Set 11| shaunavon\n",
      "Processing Record 35 of Set 11| nova russas\n",
      "Processing Record 36 of Set 11| vieksniai\n",
      "Processing Record 37 of Set 11| kiunga\n",
      "Processing Record 38 of Set 11| bhikangaon\n",
      "Processing Record 39 of Set 11| alice\n",
      "Processing Record 40 of Set 11| genhe\n",
      "Processing Record 41 of Set 11| catamarca\n",
      "-----------------------------\n",
      "Data Retrieval Complete\n",
      "-----------------------------\n"
     ]
    }
   ],
   "source": [
    "print(\"Beginning Data Retrieval\\n-----------------------------\\n\")\n",
    "\n",
    "# Save config information.\n",
    "url = \"http://api.openweathermap.org/data/2.5/weather?\"\n",
    "units = \"imperial\"\n",
    "\n",
    "# Build partial query URL\n",
    "query_url = f\"{url}appid={weather_api_key}&units={units}&q=\"\n",
    "\n",
    "# initial conditions\n",
    "\n",
    "city_list = []\n",
    "cloudiness_list = []\n",
    "country_list = []\n",
    "date_list = []\n",
    "humidity_list = []\n",
    "lat_list = []\n",
    "lng_list = []\n",
    "max_temp_list = []\n",
    "wind_speed_list = []\n",
    "\n",
    "i = 0\n",
    "set = 1\n",
    "\n",
    "for city in cities:\n",
    "    try:\n",
    "        response = requests.get(query_url + city).json()\n",
    "        cloudiness_list.append(response['clouds']['all'])\n",
    "        country_list.append(response['sys']['country'])\n",
    "        date_list.append(response['dt'])\n",
    "        humidity_list.append(response['main']['humidity'])\n",
    "        lat_list.append(response['coord']['lat'])\n",
    "        lng_list.append(response['coord']['lon'])\n",
    "        max_temp_list.append(response['main']['temp_max'])\n",
    "        wind_speed_list.append(response['wind']['speed'])\n",
    "        \n",
    "        if i > 48:\n",
    "            i=1\n",
    "            set+=1\n",
    "            city_list.append(city)\n",
    "      \n",
    "        else:\n",
    "            i+=1\n",
    "            city_list.append(city)\n",
    "        print(f\"Processing Record {i} of Set {set}| {city}\")\n",
    "    except Exception:\n",
    "        print(\"City not found. Skipping...\")\n",
    "print(\"-----------------------------\\nData Retrieval Complete\\n-----------------------------\")\n",
    "        "
   ]
  },
  {
   "cell_type": "markdown",
   "metadata": {},
   "source": [
    "### Convert Raw Data to DataFrame\n",
    "* Export the city data into a .csv.\n",
    "* Display the DataFrame"
   ]
  },
  {
   "cell_type": "code",
   "execution_count": 6,
   "metadata": {
    "scrolled": true
   },
   "outputs": [
    {
     "data": {
      "text/plain": [
       "City          531\n",
       "Cloudiness    531\n",
       "Country       531\n",
       "Date          531\n",
       "Humidity      531\n",
       "Lat           531\n",
       "Lng           531\n",
       "Max Temp      531\n",
       "Wind Speed    531\n",
       "dtype: int64"
      ]
     },
     "execution_count": 6,
     "metadata": {},
     "output_type": "execute_result"
    }
   ],
   "source": [
    "# Create a dictionary of list\n",
    "city_data_dict = {\n",
    "    'City': city_list,\n",
    "    'Cloudiness': cloudiness_list,\n",
    "    'Country': country_list,\n",
    "    'Date': date_list,\n",
    "    'Humidity': humidity_list,\n",
    "    'Lat': lat_list,\n",
    "    'Lng': lng_list,\n",
    "    'Max Temp': max_temp_list,\n",
    "    'Wind Speed': wind_speed_list}\n",
    "\n",
    "#  Create a dataframe\n",
    "\n",
    "city_data_df = pd.DataFrame(city_data_dict)\n",
    "\n",
    "city_data_df.count()"
   ]
  },
  {
   "cell_type": "code",
   "execution_count": 7,
   "metadata": {},
   "outputs": [
    {
     "data": {
      "text/html": [
       "<div>\n",
       "<style scoped>\n",
       "    .dataframe tbody tr th:only-of-type {\n",
       "        vertical-align: middle;\n",
       "    }\n",
       "\n",
       "    .dataframe tbody tr th {\n",
       "        vertical-align: top;\n",
       "    }\n",
       "\n",
       "    .dataframe thead th {\n",
       "        text-align: right;\n",
       "    }\n",
       "</style>\n",
       "<table border=\"1\" class=\"dataframe\">\n",
       "  <thead>\n",
       "    <tr style=\"text-align: right;\">\n",
       "      <th></th>\n",
       "      <th>City</th>\n",
       "      <th>Cloudiness</th>\n",
       "      <th>Country</th>\n",
       "      <th>Date</th>\n",
       "      <th>Humidity</th>\n",
       "      <th>Lat</th>\n",
       "      <th>Lng</th>\n",
       "      <th>Max Temp</th>\n",
       "      <th>Wind Speed</th>\n",
       "    </tr>\n",
       "  </thead>\n",
       "  <tbody>\n",
       "    <tr>\n",
       "      <th>0</th>\n",
       "      <td>ushuaia</td>\n",
       "      <td>40</td>\n",
       "      <td>AR</td>\n",
       "      <td>1596393517</td>\n",
       "      <td>75</td>\n",
       "      <td>-54.80</td>\n",
       "      <td>-68.30</td>\n",
       "      <td>41.00</td>\n",
       "      <td>24.16</td>\n",
       "    </tr>\n",
       "    <tr>\n",
       "      <th>1</th>\n",
       "      <td>severo-kurilsk</td>\n",
       "      <td>100</td>\n",
       "      <td>RU</td>\n",
       "      <td>1596393517</td>\n",
       "      <td>84</td>\n",
       "      <td>50.68</td>\n",
       "      <td>156.12</td>\n",
       "      <td>52.56</td>\n",
       "      <td>8.50</td>\n",
       "    </tr>\n",
       "    <tr>\n",
       "      <th>2</th>\n",
       "      <td>east london</td>\n",
       "      <td>0</td>\n",
       "      <td>ZA</td>\n",
       "      <td>1596393517</td>\n",
       "      <td>22</td>\n",
       "      <td>-33.02</td>\n",
       "      <td>27.91</td>\n",
       "      <td>72.57</td>\n",
       "      <td>8.46</td>\n",
       "    </tr>\n",
       "    <tr>\n",
       "      <th>3</th>\n",
       "      <td>hermanus</td>\n",
       "      <td>0</td>\n",
       "      <td>ZA</td>\n",
       "      <td>1596393518</td>\n",
       "      <td>72</td>\n",
       "      <td>-34.42</td>\n",
       "      <td>19.23</td>\n",
       "      <td>61.00</td>\n",
       "      <td>3.00</td>\n",
       "    </tr>\n",
       "    <tr>\n",
       "      <th>4</th>\n",
       "      <td>jamestown</td>\n",
       "      <td>90</td>\n",
       "      <td>US</td>\n",
       "      <td>1596393518</td>\n",
       "      <td>78</td>\n",
       "      <td>42.10</td>\n",
       "      <td>-79.24</td>\n",
       "      <td>73.99</td>\n",
       "      <td>18.34</td>\n",
       "    </tr>\n",
       "  </tbody>\n",
       "</table>\n",
       "</div>"
      ],
      "text/plain": [
       "             City  Cloudiness Country        Date  Humidity    Lat     Lng  \\\n",
       "0         ushuaia          40      AR  1596393517        75 -54.80  -68.30   \n",
       "1  severo-kurilsk         100      RU  1596393517        84  50.68  156.12   \n",
       "2     east london           0      ZA  1596393517        22 -33.02   27.91   \n",
       "3        hermanus           0      ZA  1596393518        72 -34.42   19.23   \n",
       "4       jamestown          90      US  1596393518        78  42.10  -79.24   \n",
       "\n",
       "   Max Temp  Wind Speed  \n",
       "0     41.00       24.16  \n",
       "1     52.56        8.50  \n",
       "2     72.57        8.46  \n",
       "3     61.00        3.00  \n",
       "4     73.99       18.34  "
      ]
     },
     "execution_count": 7,
     "metadata": {},
     "output_type": "execute_result"
    }
   ],
   "source": [
    "# look at the first few rows of dataframe\n",
    "city_data_df.head()"
   ]
  },
  {
   "cell_type": "markdown",
   "metadata": {},
   "source": [
    "## Inspect the data and remove the cities where the humidity > 100%.\n",
    "----\n",
    "Skip this step if there are no cities that have humidity > 100%. "
   ]
  },
  {
   "cell_type": "code",
   "execution_count": 8,
   "metadata": {
    "scrolled": true
   },
   "outputs": [
    {
     "data": {
      "text/html": [
       "<div>\n",
       "<style scoped>\n",
       "    .dataframe tbody tr th:only-of-type {\n",
       "        vertical-align: middle;\n",
       "    }\n",
       "\n",
       "    .dataframe tbody tr th {\n",
       "        vertical-align: top;\n",
       "    }\n",
       "\n",
       "    .dataframe thead th {\n",
       "        text-align: right;\n",
       "    }\n",
       "</style>\n",
       "<table border=\"1\" class=\"dataframe\">\n",
       "  <thead>\n",
       "    <tr style=\"text-align: right;\">\n",
       "      <th></th>\n",
       "      <th>Cloudiness</th>\n",
       "      <th>Date</th>\n",
       "      <th>Humidity</th>\n",
       "      <th>Lat</th>\n",
       "      <th>Lng</th>\n",
       "      <th>Max Temp</th>\n",
       "      <th>Wind Speed</th>\n",
       "    </tr>\n",
       "  </thead>\n",
       "  <tbody>\n",
       "    <tr>\n",
       "      <th>count</th>\n",
       "      <td>531.000000</td>\n",
       "      <td>5.310000e+02</td>\n",
       "      <td>531.000000</td>\n",
       "      <td>531.000000</td>\n",
       "      <td>531.000000</td>\n",
       "      <td>531.000000</td>\n",
       "      <td>531.000000</td>\n",
       "    </tr>\n",
       "    <tr>\n",
       "      <th>mean</th>\n",
       "      <td>51.403013</td>\n",
       "      <td>1.596394e+09</td>\n",
       "      <td>68.969868</td>\n",
       "      <td>18.925330</td>\n",
       "      <td>16.445876</td>\n",
       "      <td>70.268625</td>\n",
       "      <td>7.922561</td>\n",
       "    </tr>\n",
       "    <tr>\n",
       "      <th>std</th>\n",
       "      <td>41.449168</td>\n",
       "      <td>7.177601e+01</td>\n",
       "      <td>21.392624</td>\n",
       "      <td>33.459212</td>\n",
       "      <td>92.310904</td>\n",
       "      <td>14.307609</td>\n",
       "      <td>5.002643</td>\n",
       "    </tr>\n",
       "    <tr>\n",
       "      <th>min</th>\n",
       "      <td>0.000000</td>\n",
       "      <td>1.596393e+09</td>\n",
       "      <td>5.000000</td>\n",
       "      <td>-54.800000</td>\n",
       "      <td>-179.170000</td>\n",
       "      <td>35.600000</td>\n",
       "      <td>0.510000</td>\n",
       "    </tr>\n",
       "    <tr>\n",
       "      <th>25%</th>\n",
       "      <td>2.000000</td>\n",
       "      <td>1.596394e+09</td>\n",
       "      <td>59.000000</td>\n",
       "      <td>-8.675000</td>\n",
       "      <td>-67.900000</td>\n",
       "      <td>59.000000</td>\n",
       "      <td>4.185000</td>\n",
       "    </tr>\n",
       "    <tr>\n",
       "      <th>50%</th>\n",
       "      <td>56.000000</td>\n",
       "      <td>1.596394e+09</td>\n",
       "      <td>74.000000</td>\n",
       "      <td>20.700000</td>\n",
       "      <td>19.130000</td>\n",
       "      <td>72.000000</td>\n",
       "      <td>6.930000</td>\n",
       "    </tr>\n",
       "    <tr>\n",
       "      <th>75%</th>\n",
       "      <td>97.000000</td>\n",
       "      <td>1.596394e+09</td>\n",
       "      <td>85.000000</td>\n",
       "      <td>48.115000</td>\n",
       "      <td>99.690000</td>\n",
       "      <td>80.600000</td>\n",
       "      <td>10.560000</td>\n",
       "    </tr>\n",
       "    <tr>\n",
       "      <th>max</th>\n",
       "      <td>100.000000</td>\n",
       "      <td>1.596394e+09</td>\n",
       "      <td>100.000000</td>\n",
       "      <td>78.220000</td>\n",
       "      <td>179.320000</td>\n",
       "      <td>108.430000</td>\n",
       "      <td>27.380000</td>\n",
       "    </tr>\n",
       "  </tbody>\n",
       "</table>\n",
       "</div>"
      ],
      "text/plain": [
       "       Cloudiness          Date    Humidity         Lat         Lng  \\\n",
       "count  531.000000  5.310000e+02  531.000000  531.000000  531.000000   \n",
       "mean    51.403013  1.596394e+09   68.969868   18.925330   16.445876   \n",
       "std     41.449168  7.177601e+01   21.392624   33.459212   92.310904   \n",
       "min      0.000000  1.596393e+09    5.000000  -54.800000 -179.170000   \n",
       "25%      2.000000  1.596394e+09   59.000000   -8.675000  -67.900000   \n",
       "50%     56.000000  1.596394e+09   74.000000   20.700000   19.130000   \n",
       "75%     97.000000  1.596394e+09   85.000000   48.115000   99.690000   \n",
       "max    100.000000  1.596394e+09  100.000000   78.220000  179.320000   \n",
       "\n",
       "         Max Temp  Wind Speed  \n",
       "count  531.000000  531.000000  \n",
       "mean    70.268625    7.922561  \n",
       "std     14.307609    5.002643  \n",
       "min     35.600000    0.510000  \n",
       "25%     59.000000    4.185000  \n",
       "50%     72.000000    6.930000  \n",
       "75%     80.600000   10.560000  \n",
       "max    108.430000   27.380000  "
      ]
     },
     "execution_count": 8,
     "metadata": {},
     "output_type": "execute_result"
    }
   ],
   "source": [
    "city_data_df.describe()"
   ]
  },
  {
   "cell_type": "code",
   "execution_count": 9,
   "metadata": {},
   "outputs": [],
   "source": [
    "#  Get the indices of cities that have humidity over 100%.\n"
   ]
  },
  {
   "cell_type": "code",
   "execution_count": 10,
   "metadata": {},
   "outputs": [
    {
     "data": {
      "text/html": [
       "<div>\n",
       "<style scoped>\n",
       "    .dataframe tbody tr th:only-of-type {\n",
       "        vertical-align: middle;\n",
       "    }\n",
       "\n",
       "    .dataframe tbody tr th {\n",
       "        vertical-align: top;\n",
       "    }\n",
       "\n",
       "    .dataframe thead th {\n",
       "        text-align: right;\n",
       "    }\n",
       "</style>\n",
       "<table border=\"1\" class=\"dataframe\">\n",
       "  <thead>\n",
       "    <tr style=\"text-align: right;\">\n",
       "      <th></th>\n",
       "      <th>City</th>\n",
       "      <th>Cloudiness</th>\n",
       "      <th>Country</th>\n",
       "      <th>Date</th>\n",
       "      <th>Humidity</th>\n",
       "      <th>Lat</th>\n",
       "      <th>Lng</th>\n",
       "      <th>Max Temp</th>\n",
       "      <th>Wind Speed</th>\n",
       "    </tr>\n",
       "  </thead>\n",
       "  <tbody>\n",
       "    <tr>\n",
       "      <th>0</th>\n",
       "      <td>ushuaia</td>\n",
       "      <td>40</td>\n",
       "      <td>AR</td>\n",
       "      <td>1596393517</td>\n",
       "      <td>75</td>\n",
       "      <td>-54.80</td>\n",
       "      <td>-68.30</td>\n",
       "      <td>41.00</td>\n",
       "      <td>24.16</td>\n",
       "    </tr>\n",
       "    <tr>\n",
       "      <th>1</th>\n",
       "      <td>severo-kurilsk</td>\n",
       "      <td>100</td>\n",
       "      <td>RU</td>\n",
       "      <td>1596393517</td>\n",
       "      <td>84</td>\n",
       "      <td>50.68</td>\n",
       "      <td>156.12</td>\n",
       "      <td>52.56</td>\n",
       "      <td>8.50</td>\n",
       "    </tr>\n",
       "    <tr>\n",
       "      <th>2</th>\n",
       "      <td>east london</td>\n",
       "      <td>0</td>\n",
       "      <td>ZA</td>\n",
       "      <td>1596393517</td>\n",
       "      <td>22</td>\n",
       "      <td>-33.02</td>\n",
       "      <td>27.91</td>\n",
       "      <td>72.57</td>\n",
       "      <td>8.46</td>\n",
       "    </tr>\n",
       "    <tr>\n",
       "      <th>3</th>\n",
       "      <td>hermanus</td>\n",
       "      <td>0</td>\n",
       "      <td>ZA</td>\n",
       "      <td>1596393518</td>\n",
       "      <td>72</td>\n",
       "      <td>-34.42</td>\n",
       "      <td>19.23</td>\n",
       "      <td>61.00</td>\n",
       "      <td>3.00</td>\n",
       "    </tr>\n",
       "    <tr>\n",
       "      <th>4</th>\n",
       "      <td>jamestown</td>\n",
       "      <td>90</td>\n",
       "      <td>US</td>\n",
       "      <td>1596393518</td>\n",
       "      <td>78</td>\n",
       "      <td>42.10</td>\n",
       "      <td>-79.24</td>\n",
       "      <td>73.99</td>\n",
       "      <td>18.34</td>\n",
       "    </tr>\n",
       "    <tr>\n",
       "      <th>...</th>\n",
       "      <td>...</td>\n",
       "      <td>...</td>\n",
       "      <td>...</td>\n",
       "      <td>...</td>\n",
       "      <td>...</td>\n",
       "      <td>...</td>\n",
       "      <td>...</td>\n",
       "      <td>...</td>\n",
       "      <td>...</td>\n",
       "    </tr>\n",
       "    <tr>\n",
       "      <th>526</th>\n",
       "      <td>kiunga</td>\n",
       "      <td>67</td>\n",
       "      <td>PG</td>\n",
       "      <td>1596393646</td>\n",
       "      <td>96</td>\n",
       "      <td>-6.12</td>\n",
       "      <td>141.29</td>\n",
       "      <td>69.80</td>\n",
       "      <td>2.19</td>\n",
       "    </tr>\n",
       "    <tr>\n",
       "      <th>527</th>\n",
       "      <td>bhikangaon</td>\n",
       "      <td>97</td>\n",
       "      <td>IN</td>\n",
       "      <td>1596393646</td>\n",
       "      <td>78</td>\n",
       "      <td>21.87</td>\n",
       "      <td>75.95</td>\n",
       "      <td>83.34</td>\n",
       "      <td>7.14</td>\n",
       "    </tr>\n",
       "    <tr>\n",
       "      <th>528</th>\n",
       "      <td>alice</td>\n",
       "      <td>0</td>\n",
       "      <td>US</td>\n",
       "      <td>1596393516</td>\n",
       "      <td>49</td>\n",
       "      <td>27.75</td>\n",
       "      <td>-98.07</td>\n",
       "      <td>91.40</td>\n",
       "      <td>8.68</td>\n",
       "    </tr>\n",
       "    <tr>\n",
       "      <th>529</th>\n",
       "      <td>genhe</td>\n",
       "      <td>100</td>\n",
       "      <td>CN</td>\n",
       "      <td>1596393646</td>\n",
       "      <td>92</td>\n",
       "      <td>50.78</td>\n",
       "      <td>121.52</td>\n",
       "      <td>62.04</td>\n",
       "      <td>8.95</td>\n",
       "    </tr>\n",
       "    <tr>\n",
       "      <th>530</th>\n",
       "      <td>catamarca</td>\n",
       "      <td>0</td>\n",
       "      <td>AR</td>\n",
       "      <td>1596393373</td>\n",
       "      <td>31</td>\n",
       "      <td>-28.47</td>\n",
       "      <td>-65.79</td>\n",
       "      <td>75.99</td>\n",
       "      <td>3.00</td>\n",
       "    </tr>\n",
       "  </tbody>\n",
       "</table>\n",
       "<p>531 rows × 9 columns</p>\n",
       "</div>"
      ],
      "text/plain": [
       "               City  Cloudiness Country        Date  Humidity    Lat     Lng  \\\n",
       "0           ushuaia          40      AR  1596393517        75 -54.80  -68.30   \n",
       "1    severo-kurilsk         100      RU  1596393517        84  50.68  156.12   \n",
       "2       east london           0      ZA  1596393517        22 -33.02   27.91   \n",
       "3          hermanus           0      ZA  1596393518        72 -34.42   19.23   \n",
       "4         jamestown          90      US  1596393518        78  42.10  -79.24   \n",
       "..              ...         ...     ...         ...       ...    ...     ...   \n",
       "526          kiunga          67      PG  1596393646        96  -6.12  141.29   \n",
       "527      bhikangaon          97      IN  1596393646        78  21.87   75.95   \n",
       "528           alice           0      US  1596393516        49  27.75  -98.07   \n",
       "529           genhe         100      CN  1596393646        92  50.78  121.52   \n",
       "530       catamarca           0      AR  1596393373        31 -28.47  -65.79   \n",
       "\n",
       "     Max Temp  Wind Speed  \n",
       "0       41.00       24.16  \n",
       "1       52.56        8.50  \n",
       "2       72.57        8.46  \n",
       "3       61.00        3.00  \n",
       "4       73.99       18.34  \n",
       "..        ...         ...  \n",
       "526     69.80        2.19  \n",
       "527     83.34        7.14  \n",
       "528     91.40        8.68  \n",
       "529     62.04        8.95  \n",
       "530     75.99        3.00  \n",
       "\n",
       "[531 rows x 9 columns]"
      ]
     },
     "execution_count": 10,
     "metadata": {},
     "output_type": "execute_result"
    }
   ],
   "source": [
    "# Make a new DataFrame equal to the city data to drop all humidity outliers by index.\n",
    "# Passing \"inplace=False\" will make a copy of the city_data DataFrame, which we call \"clean_city_data\".\n",
    "\n",
    "hi_humidity = city_data_df[city_data_df['Humidity'] > 100 ].index\n",
    "clean_city_data_df = city_data_df.drop(hi_humidity, inplace=False)\n",
    "clean_city_data_df"
   ]
  },
  {
   "cell_type": "code",
   "execution_count": 11,
   "metadata": {
    "scrolled": true
   },
   "outputs": [
    {
     "data": {
      "text/html": [
       "<div>\n",
       "<style scoped>\n",
       "    .dataframe tbody tr th:only-of-type {\n",
       "        vertical-align: middle;\n",
       "    }\n",
       "\n",
       "    .dataframe tbody tr th {\n",
       "        vertical-align: top;\n",
       "    }\n",
       "\n",
       "    .dataframe thead th {\n",
       "        text-align: right;\n",
       "    }\n",
       "</style>\n",
       "<table border=\"1\" class=\"dataframe\">\n",
       "  <thead>\n",
       "    <tr style=\"text-align: right;\">\n",
       "      <th></th>\n",
       "      <th>City</th>\n",
       "      <th>Cloudiness</th>\n",
       "      <th>Country</th>\n",
       "      <th>Date</th>\n",
       "      <th>Humidity</th>\n",
       "      <th>Lat</th>\n",
       "      <th>Lng</th>\n",
       "      <th>Max Temp</th>\n",
       "      <th>Wind Speed</th>\n",
       "    </tr>\n",
       "  </thead>\n",
       "  <tbody>\n",
       "    <tr>\n",
       "      <th>0</th>\n",
       "      <td>ushuaia</td>\n",
       "      <td>40</td>\n",
       "      <td>AR</td>\n",
       "      <td>1596393517</td>\n",
       "      <td>75</td>\n",
       "      <td>-54.80</td>\n",
       "      <td>-68.30</td>\n",
       "      <td>41.00</td>\n",
       "      <td>24.16</td>\n",
       "    </tr>\n",
       "    <tr>\n",
       "      <th>1</th>\n",
       "      <td>severo-kurilsk</td>\n",
       "      <td>100</td>\n",
       "      <td>RU</td>\n",
       "      <td>1596393517</td>\n",
       "      <td>84</td>\n",
       "      <td>50.68</td>\n",
       "      <td>156.12</td>\n",
       "      <td>52.56</td>\n",
       "      <td>8.50</td>\n",
       "    </tr>\n",
       "    <tr>\n",
       "      <th>2</th>\n",
       "      <td>east london</td>\n",
       "      <td>0</td>\n",
       "      <td>ZA</td>\n",
       "      <td>1596393517</td>\n",
       "      <td>22</td>\n",
       "      <td>-33.02</td>\n",
       "      <td>27.91</td>\n",
       "      <td>72.57</td>\n",
       "      <td>8.46</td>\n",
       "    </tr>\n",
       "    <tr>\n",
       "      <th>3</th>\n",
       "      <td>hermanus</td>\n",
       "      <td>0</td>\n",
       "      <td>ZA</td>\n",
       "      <td>1596393518</td>\n",
       "      <td>72</td>\n",
       "      <td>-34.42</td>\n",
       "      <td>19.23</td>\n",
       "      <td>61.00</td>\n",
       "      <td>3.00</td>\n",
       "    </tr>\n",
       "    <tr>\n",
       "      <th>4</th>\n",
       "      <td>jamestown</td>\n",
       "      <td>90</td>\n",
       "      <td>US</td>\n",
       "      <td>1596393518</td>\n",
       "      <td>78</td>\n",
       "      <td>42.10</td>\n",
       "      <td>-79.24</td>\n",
       "      <td>73.99</td>\n",
       "      <td>18.34</td>\n",
       "    </tr>\n",
       "    <tr>\n",
       "      <th>...</th>\n",
       "      <td>...</td>\n",
       "      <td>...</td>\n",
       "      <td>...</td>\n",
       "      <td>...</td>\n",
       "      <td>...</td>\n",
       "      <td>...</td>\n",
       "      <td>...</td>\n",
       "      <td>...</td>\n",
       "      <td>...</td>\n",
       "    </tr>\n",
       "    <tr>\n",
       "      <th>526</th>\n",
       "      <td>kiunga</td>\n",
       "      <td>67</td>\n",
       "      <td>PG</td>\n",
       "      <td>1596393646</td>\n",
       "      <td>96</td>\n",
       "      <td>-6.12</td>\n",
       "      <td>141.29</td>\n",
       "      <td>69.80</td>\n",
       "      <td>2.19</td>\n",
       "    </tr>\n",
       "    <tr>\n",
       "      <th>527</th>\n",
       "      <td>bhikangaon</td>\n",
       "      <td>97</td>\n",
       "      <td>IN</td>\n",
       "      <td>1596393646</td>\n",
       "      <td>78</td>\n",
       "      <td>21.87</td>\n",
       "      <td>75.95</td>\n",
       "      <td>83.34</td>\n",
       "      <td>7.14</td>\n",
       "    </tr>\n",
       "    <tr>\n",
       "      <th>528</th>\n",
       "      <td>alice</td>\n",
       "      <td>0</td>\n",
       "      <td>US</td>\n",
       "      <td>1596393516</td>\n",
       "      <td>49</td>\n",
       "      <td>27.75</td>\n",
       "      <td>-98.07</td>\n",
       "      <td>91.40</td>\n",
       "      <td>8.68</td>\n",
       "    </tr>\n",
       "    <tr>\n",
       "      <th>529</th>\n",
       "      <td>genhe</td>\n",
       "      <td>100</td>\n",
       "      <td>CN</td>\n",
       "      <td>1596393646</td>\n",
       "      <td>92</td>\n",
       "      <td>50.78</td>\n",
       "      <td>121.52</td>\n",
       "      <td>62.04</td>\n",
       "      <td>8.95</td>\n",
       "    </tr>\n",
       "    <tr>\n",
       "      <th>530</th>\n",
       "      <td>catamarca</td>\n",
       "      <td>0</td>\n",
       "      <td>AR</td>\n",
       "      <td>1596393373</td>\n",
       "      <td>31</td>\n",
       "      <td>-28.47</td>\n",
       "      <td>-65.79</td>\n",
       "      <td>75.99</td>\n",
       "      <td>3.00</td>\n",
       "    </tr>\n",
       "  </tbody>\n",
       "</table>\n",
       "<p>531 rows × 9 columns</p>\n",
       "</div>"
      ],
      "text/plain": [
       "               City  Cloudiness Country        Date  Humidity    Lat     Lng  \\\n",
       "0           ushuaia          40      AR  1596393517        75 -54.80  -68.30   \n",
       "1    severo-kurilsk         100      RU  1596393517        84  50.68  156.12   \n",
       "2       east london           0      ZA  1596393517        22 -33.02   27.91   \n",
       "3          hermanus           0      ZA  1596393518        72 -34.42   19.23   \n",
       "4         jamestown          90      US  1596393518        78  42.10  -79.24   \n",
       "..              ...         ...     ...         ...       ...    ...     ...   \n",
       "526          kiunga          67      PG  1596393646        96  -6.12  141.29   \n",
       "527      bhikangaon          97      IN  1596393646        78  21.87   75.95   \n",
       "528           alice           0      US  1596393516        49  27.75  -98.07   \n",
       "529           genhe         100      CN  1596393646        92  50.78  121.52   \n",
       "530       catamarca           0      AR  1596393373        31 -28.47  -65.79   \n",
       "\n",
       "     Max Temp  Wind Speed  \n",
       "0       41.00       24.16  \n",
       "1       52.56        8.50  \n",
       "2       72.57        8.46  \n",
       "3       61.00        3.00  \n",
       "4       73.99       18.34  \n",
       "..        ...         ...  \n",
       "526     69.80        2.19  \n",
       "527     83.34        7.14  \n",
       "528     91.40        8.68  \n",
       "529     62.04        8.95  \n",
       "530     75.99        3.00  \n",
       "\n",
       "[531 rows x 9 columns]"
      ]
     },
     "execution_count": 11,
     "metadata": {},
     "output_type": "execute_result"
    }
   ],
   "source": [
    "# Extract relevant fields from the data frame\n",
    "\n",
    "# Export the City_Data into a csv\n",
    "\n",
    "clean_city_data_df.to_csv(\"../output_data/cities.csv\", index=False)\n",
    "clean_city_data_df"
   ]
  },
  {
   "cell_type": "markdown",
   "metadata": {},
   "source": [
    "## Plotting the Data\n",
    "* Use proper labeling of the plots using plot titles (including date of analysis) and axes labels.\n",
    "* Save the plotted figures as .pngs."
   ]
  },
  {
   "cell_type": "markdown",
   "metadata": {},
   "source": [
    "## Latitude vs. Temperature Plot"
   ]
  },
  {
   "cell_type": "code",
   "execution_count": 13,
   "metadata": {
    "scrolled": false
   },
   "outputs": [
    {
     "data": {
      "image/png": "[encoded data removed]",
      "text/plain": [
       "<Figure size 432x288 with 1 Axes>"
      ]
     },
     "metadata": {
      "needs_background": "light"
     },
     "output_type": "display_data"
    }
   ],
   "source": [
    "x_values = clean_city_data_df['Lat']\n",
    "y_values = clean_city_data_df['Max Temp']\n",
    "plt.scatter(x_values, y_values, edgecolors='black')\n",
    "plt.xlabel('Latitude')\n",
    "plt.ylabel('Max Temperature (F)')\n",
    "plt.grid()\n",
    "plt.title('City Latitude vs. Max Temperature (04/01/20)')\n",
    "plt.savefig('../Images/fig1.png')\n",
    "plt.show()"
   ]
  },
  {
   "cell_type": "markdown",
   "metadata": {},
   "source": [
    "## Latitude vs. Humidity Plot"
   ]
  },
  {
   "cell_type": "code",
   "execution_count": 14,
   "metadata": {},
   "outputs": [
    {
     "data": {
      "image/png": "[encoded data removed]",
      "text/plain": [
       "<Figure size 432x288 with 1 Axes>"
      ]
     },
     "metadata": {
      "needs_background": "light"
     },
     "output_type": "display_data"
    }
   ],
   "source": [
    "x_values = clean_city_data_df['Lat']\n",
    "y_values = clean_city_data_df['Humidity']\n",
    "plt.scatter(x_values, y_values, edgecolors='black')\n",
    "plt.xlabel('Latitude')\n",
    "plt.ylabel('Humidity (%)')\n",
    "plt.grid()\n",
    "plt.title('City Latitude vs. Humidity (04/01/20)')\n",
    "plt.savefig('../Images/fig2.png')\n",
    "plt.show()"
   ]
  },
  {
   "cell_type": "markdown",
   "metadata": {},
   "source": [
    "## Latitude vs. Cloudiness Plot"
   ]
  },
  {
   "cell_type": "code",
   "execution_count": 15,
   "metadata": {
    "scrolled": false
   },
   "outputs": [
    {
     "data": {
      "image/png": "[encoded data removed]",
      "text/plain": [
       "<Figure size 432x288 with 1 Axes>"
      ]
     },
     "metadata": {
      "needs_background": "light"
     },
     "output_type": "display_data"
    }
   ],
   "source": [
    "x_values = clean_city_data_df['Lat']\n",
    "y_values = clean_city_data_df['Cloudiness']\n",
    "plt.scatter(x_values, y_values, edgecolors='black')\n",
    "plt.xlabel('Latitude')\n",
    "plt.ylabel('Cloudiness (%)')\n",
    "plt.grid()\n",
    "plt.title('City Latitude vs. Cloudiness (04/01/20)')\n",
    "plt.savefig('../Images/fig3.png')\n",
    "plt.show()"
   ]
  },
  {
   "cell_type": "markdown",
   "metadata": {},
   "source": [
    "## Latitude vs. Wind Speed Plot"
   ]
  },
  {
   "cell_type": "code",
   "execution_count": 16,
   "metadata": {},
   "outputs": [
    {
     "data": {
      "image/png": "[encoded data removed]",
      "text/plain": [
       "<Figure size 432x288 with 1 Axes>"
      ]
     },
     "metadata": {
      "needs_background": "light"
     },
     "output_type": "display_data"
    }
   ],
   "source": [
    "x_values = clean_city_data_df['Lat']\n",
    "y_values = clean_city_data_df['Wind Speed']\n",
    "plt.scatter(x_values, y_values, edgecolors='black')\n",
    "plt.xlabel('Latitude')\n",
    "plt.ylabel('Wind Speed (mph)')\n",
    "plt.grid()\n",
    "plt.title('City Latitude vs. Wind Speed (04/01/20)')\n",
    "plt.savefig('../Images/fig4.png')\n",
    "plt.show()"
   ]
  },
  {
   "cell_type": "markdown",
   "metadata": {},
   "source": [
    "## Linear Regression"
   ]
  },
  {
   "cell_type": "code",
   "execution_count": 17,
   "metadata": {},
   "outputs": [],
   "source": [
    "# OPTIONAL: Create a function to create Linear Regression plots"
   ]
  },
  {
   "cell_type": "code",
   "execution_count": 20,
   "metadata": {},
   "outputs": [],
   "source": [
    "# Create Northern and Southern Hemisphere DataFrames\n",
    "north_hemis_df = clean_city_data_df.loc[clean_city_data_df['Lat'] > 0, :]\n",
    "south_hemis_df = clean_city_data_df.loc[clean_city_data_df['Lat'] < 0, :]"
   ]
  },
  {
   "cell_type": "markdown",
   "metadata": {},
   "source": [
    "####  Northern Hemisphere - Max Temp vs. Latitude Linear Regression"
   ]
  },
  {
   "cell_type": "code",
   "execution_count": 21,
   "metadata": {},
   "outputs": [],
   "source": [
    "def linear_reg_plot(df, title_name, y_column_name, y_label, file_name, xy):\n",
    "    x_values = df['Lat']\n",
    "    y_values = df[y_column_name]\n",
    "    (slope, intercept, rvalue, pvalue, stderr) = linregress(x_values, y_values)\n",
    "    regress_values = x_values * slope + intercept\n",
    "    line_eq = \"y = \" + str(round(slope,2)) + \"x +\" + str(round(intercept,2))\n",
    "    plt.scatter(x_values,y_values)\n",
    "    plt.plot(x_values,regress_values,\"r-\")\n",
    "    plt.xlabel('Latitude')\n",
    "    plt.ylabel(y_label)\n",
    "    plt.annotate(line_eq,xy,fontsize=15,color=\"red\")\n",
    "    plt.title(title_name)\n",
    "    print(f\"The r-squared is: {rvalue}\")\n",
    "    plt.savefig('../Images/fig5.png')\n",
    "    plt.show()"
   ]
  },
  {
   "cell_type": "code",
   "execution_count": 22,
   "metadata": {
    "scrolled": true
   },
   "outputs": [
    {
     "name": "stdout",
     "output_type": "stream",
     "text": [
      "The r-squared is: -0.7079501884488961\n"
     ]
    },
    {
     "data": {
      "image/png": "[encoded data removed]",
      "text/plain": [
       "<Figure size 432x288 with 1 Axes>"
      ]
     },
     "metadata": {
      "needs_background": "light"
     },
     "output_type": "display_data"
    }
   ],
   "source": [
    "linear_reg_plot(north_hemis_df, 'Northern Max Temp Vs Latitude Regression', 'Max Temp', 'Max Temp', '../Images/fig6.png', (10,0))"
   ]
  },
  {
   "cell_type": "markdown",
   "metadata": {},
   "source": [
    "####  Southern Hemisphere - Max Temp vs. Latitude Linear Regression"
   ]
  },
  {
   "cell_type": "code",
   "execution_count": 23,
   "metadata": {
    "scrolled": true
   },
   "outputs": [
    {
     "name": "stdout",
     "output_type": "stream",
     "text": [
      "The r-squared is: 0.726029466126774\n"
     ]
    },
    {
     "data": {
      "image/png": "[encoded data removed]",
      "text/plain": [
       "<Figure size 432x288 with 1 Axes>"
      ]
     },
     "metadata": {
      "needs_background": "light"
     },
     "output_type": "display_data"
    }
   ],
   "source": [
    "linear_reg_plot(south_hemis_df, \"Southern Max Temp Vs Latitude Regression\", \"Max Temp\", \"Max Temp\", '../Images/fig7.png', (-40,50))"
   ]
  },
  {
   "cell_type": "markdown",
   "metadata": {},
   "source": [
    "####  Northern Hemisphere - Humidity (%) vs. Latitude Linear Regression"
   ]
  },
  {
   "cell_type": "code",
   "execution_count": 24,
   "metadata": {
    "scrolled": true
   },
   "outputs": [
    {
     "name": "stdout",
     "output_type": "stream",
     "text": [
      "The r-squared is: 0.05143843619282232\n"
     ]
    },
    {
     "data": {
      "image/png": "[encoded data removed]",
      "text/plain": [
       "<Figure size 432x288 with 1 Axes>"
      ]
     },
     "metadata": {
      "needs_background": "light"
     },
     "output_type": "display_data"
    }
   ],
   "source": [
    "linear_reg_plot(north_hemis_df, 'Northern Humidity Vs. Latitude Regression', 'Humidity', 'Humidity', '../Images/fig9.png', (40,20))"
   ]
  },
  {
   "cell_type": "markdown",
   "metadata": {},
   "source": [
    "####  Southern Hemisphere - Humidity (%) vs. Latitude Linear Regression"
   ]
  },
  {
   "cell_type": "code",
   "execution_count": 25,
   "metadata": {},
   "outputs": [
    {
     "name": "stdout",
     "output_type": "stream",
     "text": [
      "The r-squared is: -0.09808185936877815\n"
     ]
    },
    {
     "data": {
      "image/png": "[encoded data removed]",
      "text/plain": [
       "<Figure size 432x288 with 1 Axes>"
      ]
     },
     "metadata": {
      "needs_background": "light"
     },
     "output_type": "display_data"
    }
   ],
   "source": [
    "linear_reg_plot(south_hemis_df, 'Southern Humidity Vs. Latitude Regression', 'Humidity', 'Humidity', 'Figures/fig8.png', (-50,20))"
   ]
  },
  {
   "cell_type": "markdown",
   "metadata": {},
   "source": [
    "####  Northern Hemisphere - Cloudiness (%) vs. Latitude Linear Regression"
   ]
  },
  {
   "cell_type": "code",
   "execution_count": 26,
   "metadata": {
    "scrolled": true
   },
   "outputs": [
    {
     "name": "stdout",
     "output_type": "stream",
     "text": [
      "The r-squared is: 0.02920182190059131\n"
     ]
    },
    {
     "data": {
      "image/png": "[encoded data removed]",
      "text/plain": [
       "<Figure size 432x288 with 1 Axes>"
      ]
     },
     "metadata": {
      "needs_background": "light"
     },
     "output_type": "display_data"
    }
   ],
   "source": [
    "linear_reg_plot(north_hemis_df, 'Northern Cloudiness Vs. Latitude Regression', 'Cloudiness', 'Cloudiness', \n",
    "                '../Images/fig10.png', (40,20))"
   ]
  },
  {
   "cell_type": "markdown",
   "metadata": {},
   "source": [
    "####  Southern Hemisphere - Cloudiness (%) vs. Latitude Linear Regression"
   ]
  },
  {
   "cell_type": "code",
   "execution_count": 27,
   "metadata": {
    "scrolled": true
   },
   "outputs": [
    {
     "name": "stdout",
     "output_type": "stream",
     "text": [
      "The r-squared is: -0.17448622886372886\n"
     ]
    },
    {
     "data": {
      "image/png": "[encoded data removed]",
      "text/plain": [
       "<Figure size 432x288 with 1 Axes>"
      ]
     },
     "metadata": {
      "needs_background": "light"
     },
     "output_type": "display_data"
    }
   ],
   "source": [
    "linear_reg_plot(south_hemis_df, 'Southern Cloudiness Vs. Latitude Regression', 'Cloudiness', 'Cloudiness', '../Images/fig11.png', (-50,20))"
   ]
  },
  {
   "cell_type": "markdown",
   "metadata": {},
   "source": [
    "####  Northern Hemisphere - Wind Speed (mph) vs. Latitude Linear Regression"
   ]
  },
  {
   "cell_type": "code",
   "execution_count": 28,
   "metadata": {
    "scrolled": true
   },
   "outputs": [
    {
     "name": "stdout",
     "output_type": "stream",
     "text": [
      "The r-squared is: -0.11392898485254217\n"
     ]
    },
    {
     "data": {
      "image/png": "[encoded data removed]",
      "text/plain": [
       "<Figure size 432x288 with 1 Axes>"
      ]
     },
     "metadata": {
      "needs_background": "light"
     },
     "output_type": "display_data"
    }
   ],
   "source": [
    "linear_reg_plot(north_hemis_df, 'Northern Wind Speed Vs. Latitude Regression', 'Wind Speed', 'Wind Speed', 'Figures/fig11.png', (40,20))"
   ]
  },
  {
   "cell_type": "markdown",
   "metadata": {},
   "source": [
    "####  Southern Hemisphere - Wind Speed (mph) vs. Latitude Linear Regression"
   ]
  },
  {
   "cell_type": "code",
   "execution_count": 29,
   "metadata": {
    "scrolled": true
   },
   "outputs": [
    {
     "name": "stdout",
     "output_type": "stream",
     "text": [
      "The r-squared is: 0.01612029463335857\n"
     ]
    },
    {
     "data": {
      "image/png": "[encoded data removed]",
      "text/plain": [
       "<Figure size 432x288 with 1 Axes>"
      ]
     },
     "metadata": {
      "needs_background": "light"
     },
     "output_type": "display_data"
    }
   ],
   "source": [
    "linear_reg_plot(south_hemis_df, 'Southern Wind Speed Vs. Southern Hemisphere', 'Wind Speed', 'Wind Speed', '../Images/fig12.png', (-30,20))"
   ]
  },
  {
   "cell_type": "code",
   "execution_count": null,
   "metadata": {},
   "outputs": [],
   "source": []
  },
  {
   "cell_type": "code",
   "execution_count": null,
   "metadata": {},
   "outputs": [],
   "source": []
  }
 ],
 "metadata": {
  "anaconda-cloud": {},
  "kernel_info": {
   "name": "python3"
  },
  "kernelspec": {
   "display_name": "Python 3",
   "language": "python",
   "name": "python3"
  },
  "language_info": {
   "codemirror_mode": {
    "name": "ipython",
    "version": 3
   },
   "file_extension": ".py",
   "mimetype": "text/x-python",
   "name": "python",
   "nbconvert_exporter": "python",
   "pygments_lexer": "ipython3",
   "version": "3.7.6"
  },
  "latex_envs": {
   "LaTeX_envs_menu_present": true,
   "autoclose": false,
   "autocomplete": true,
   "bibliofile": "biblio.bib",
   "cite_by": "apalike",
   "current_citInitial": 1,
   "eqLabelWithNumbers": true,
   "eqNumInitial": 1,
   "hotkeys": {
    "equation": "Ctrl-E",
    "itemize": "Ctrl-I"
   },
   "labels_anchors": false,
   "latex_user_defs": false,
   "report_style_numbering": false,
   "user_envs_cfg": false
  },
  "nteract": {
   "version": "0.12.3"
  }
 },
 "nbformat": 4,
 "nbformat_minor": 2
}
